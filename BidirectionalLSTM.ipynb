{
  "nbformat": 4,
  "nbformat_minor": 0,
  "metadata": {
    "colab": {
      "name": "nlp.ipynb",
      "provenance": [],
      "collapsed_sections": [],
      "authorship_tag": "ABX9TyNW7RHOqJx3lXPkpJCJCp0V",
      "include_colab_link": true
    },
    "kernelspec": {
      "name": "python3",
      "display_name": "Python 3"
    },
    "language_info": {
      "name": "python"
    },
    "accelerator": "GPU"
  },
  "cells": [
    {
      "cell_type": "markdown",
      "metadata": {
        "id": "view-in-github",
        "colab_type": "text"
      },
      "source": [
        "<a href=\"https://colab.research.google.com/github/annaiandresen/TDT4310-exercises/blob/master/BidirectionalLSTM.ipynb\" target=\"_parent\"><img src=\"https://colab.research.google.com/assets/colab-badge.svg\" alt=\"Open In Colab\"/></a>"
      ]
    },
    {
      "cell_type": "code",
      "execution_count": null,
      "metadata": {
        "id": "OBVcODfwj4K_",
        "colab": {
          "base_uri": "https://localhost:8080/"
        },
        "outputId": "4001da07-139a-4754-b168-c3fb67c28913"
      },
      "outputs": [
        {
          "output_type": "stream",
          "name": "stdout",
          "text": [
            "Cloning into 'TDT4310-exercises'...\n",
            "remote: Enumerating objects: 152, done.\u001b[K\n",
            "remote: Counting objects: 100% (152/152), done.\u001b[K\n",
            "remote: Compressing objects: 100% (114/114), done.\u001b[K\n",
            "remote: Total 152 (delta 59), reused 125 (delta 32), pack-reused 0\u001b[K\n",
            "Receiving objects: 100% (152/152), 27.71 MiB | 15.61 MiB/s, done.\n",
            "Resolving deltas: 100% (59/59), done.\n"
          ]
        }
      ],
      "source": [
        "!git clone https://github.com/annaiandresen/TDT4310-exercises.git"
      ]
    },
    {
      "cell_type": "code",
      "source": [
        "from google.colab import drive\n",
        "drive.mount('/content/gdrive')"
      ],
      "metadata": {
        "colab": {
          "base_uri": "https://localhost:8080/"
        },
        "id": "-frQBwgFL_Qg",
        "outputId": "ea228c09-3424-4529-b943-e725bba7c837"
      },
      "execution_count": 4,
      "outputs": [
        {
          "output_type": "stream",
          "name": "stdout",
          "text": [
            "Mounted at /content/gdrive\n"
          ]
        }
      ]
    },
    {
      "cell_type": "code",
      "source": [
        "!pip3 install pickle5\n",
        "!pip install pytorch\n",
        "!pip install datasets\n",
        "!pip install transformers"
      ],
      "metadata": {
        "id": "NUdh0PqymkOf"
      },
      "execution_count": null,
      "outputs": []
    },
    {
      "cell_type": "markdown",
      "source": [
        "Training HF model using Google Colab"
      ],
      "metadata": {
        "id": "h5lsfaQou4Hw"
      }
    },
    {
      "cell_type": "code",
      "source": [
        "!python TDT4310-exercises/project/main.py"
      ],
      "metadata": {
        "id": "ZSIQPEvtlsZ5"
      },
      "execution_count": null,
      "outputs": []
    },
    {
      "cell_type": "markdown",
      "source": [
        "Training Bidirectional LSTM using Tensorflow"
      ],
      "metadata": {
        "id": "tXRjDM4C4Puw"
      }
    },
    {
      "cell_type": "code",
      "source": [
        "import numpy as np\n",
        "from tensorflow import keras\n",
        "from tensorflow.keras import layers\n",
        "import tensorflow as tf"
      ],
      "metadata": {
        "id": "BdRNbNNS5qZv"
      },
      "execution_count": 5,
      "outputs": []
    },
    {
      "cell_type": "code",
      "source": [
        "# Load datasets\n",
        "import pandas as pd\n",
        "\n",
        "df = pd.read_csv(\"/content/gdrive/MyDrive/model/dataset.csv\", usecols=['text', 'label']) \n",
        "df = df.sample(frac=1).reset_index(drop=True)\n",
        "df = df.dropna()\n",
        "df"
      ],
      "metadata": {
        "colab": {
          "base_uri": "https://localhost:8080/",
          "height": 424
        },
        "id": "jtqcUrzc5_vt",
        "outputId": "fad8dda4-af77-4785-aff2-fbd96dc47ad4"
      },
      "execution_count": 6,
      "outputs": [
        {
          "output_type": "execute_result",
          "data": {
            "text/plain": [
              "                                                     text  label\n",
              "0       They are certainly better than some of the shi...      3\n",
              "1       The answer was `` Ice hockey '' Sounds like so...      0\n",
              "2                                     You're quite silly!      2\n",
              "3                                                    Yum.      2\n",
              "4       This opinion is shared by almost everyone in m...      3\n",
              "...                                                   ...    ...\n",
              "159995  Last time Europe really agreed to create one o...      2\n",
              "159996  What happened was bad for Germany, and it is a...      1\n",
              "159997  Bomb the rebels heavy weapons, send in a peace...      2\n",
              "159998  Otherwise politically and culturally, France i...      1\n",
              "159999  Don't you like US space program and it's results?      3\n",
              "\n",
              "[159981 rows x 2 columns]"
            ],
            "text/html": [
              "\n",
              "  <div id=\"df-36fab7e1-1b41-459e-b46e-fb4df5f08366\">\n",
              "    <div class=\"colab-df-container\">\n",
              "      <div>\n",
              "<style scoped>\n",
              "    .dataframe tbody tr th:only-of-type {\n",
              "        vertical-align: middle;\n",
              "    }\n",
              "\n",
              "    .dataframe tbody tr th {\n",
              "        vertical-align: top;\n",
              "    }\n",
              "\n",
              "    .dataframe thead th {\n",
              "        text-align: right;\n",
              "    }\n",
              "</style>\n",
              "<table border=\"1\" class=\"dataframe\">\n",
              "  <thead>\n",
              "    <tr style=\"text-align: right;\">\n",
              "      <th></th>\n",
              "      <th>text</th>\n",
              "      <th>label</th>\n",
              "    </tr>\n",
              "  </thead>\n",
              "  <tbody>\n",
              "    <tr>\n",
              "      <th>0</th>\n",
              "      <td>They are certainly better than some of the shi...</td>\n",
              "      <td>3</td>\n",
              "    </tr>\n",
              "    <tr>\n",
              "      <th>1</th>\n",
              "      <td>The answer was `` Ice hockey '' Sounds like so...</td>\n",
              "      <td>0</td>\n",
              "    </tr>\n",
              "    <tr>\n",
              "      <th>2</th>\n",
              "      <td>You're quite silly!</td>\n",
              "      <td>2</td>\n",
              "    </tr>\n",
              "    <tr>\n",
              "      <th>3</th>\n",
              "      <td>Yum.</td>\n",
              "      <td>2</td>\n",
              "    </tr>\n",
              "    <tr>\n",
              "      <th>4</th>\n",
              "      <td>This opinion is shared by almost everyone in m...</td>\n",
              "      <td>3</td>\n",
              "    </tr>\n",
              "    <tr>\n",
              "      <th>...</th>\n",
              "      <td>...</td>\n",
              "      <td>...</td>\n",
              "    </tr>\n",
              "    <tr>\n",
              "      <th>159995</th>\n",
              "      <td>Last time Europe really agreed to create one o...</td>\n",
              "      <td>2</td>\n",
              "    </tr>\n",
              "    <tr>\n",
              "      <th>159996</th>\n",
              "      <td>What happened was bad for Germany, and it is a...</td>\n",
              "      <td>1</td>\n",
              "    </tr>\n",
              "    <tr>\n",
              "      <th>159997</th>\n",
              "      <td>Bomb the rebels heavy weapons, send in a peace...</td>\n",
              "      <td>2</td>\n",
              "    </tr>\n",
              "    <tr>\n",
              "      <th>159998</th>\n",
              "      <td>Otherwise politically and culturally, France i...</td>\n",
              "      <td>1</td>\n",
              "    </tr>\n",
              "    <tr>\n",
              "      <th>159999</th>\n",
              "      <td>Don't you like US space program and it's results?</td>\n",
              "      <td>3</td>\n",
              "    </tr>\n",
              "  </tbody>\n",
              "</table>\n",
              "<p>159981 rows × 2 columns</p>\n",
              "</div>\n",
              "      <button class=\"colab-df-convert\" onclick=\"convertToInteractive('df-36fab7e1-1b41-459e-b46e-fb4df5f08366')\"\n",
              "              title=\"Convert this dataframe to an interactive table.\"\n",
              "              style=\"display:none;\">\n",
              "        \n",
              "  <svg xmlns=\"http://www.w3.org/2000/svg\" height=\"24px\"viewBox=\"0 0 24 24\"\n",
              "       width=\"24px\">\n",
              "    <path d=\"M0 0h24v24H0V0z\" fill=\"none\"/>\n",
              "    <path d=\"M18.56 5.44l.94 2.06.94-2.06 2.06-.94-2.06-.94-.94-2.06-.94 2.06-2.06.94zm-11 1L8.5 8.5l.94-2.06 2.06-.94-2.06-.94L8.5 2.5l-.94 2.06-2.06.94zm10 10l.94 2.06.94-2.06 2.06-.94-2.06-.94-.94-2.06-.94 2.06-2.06.94z\"/><path d=\"M17.41 7.96l-1.37-1.37c-.4-.4-.92-.59-1.43-.59-.52 0-1.04.2-1.43.59L10.3 9.45l-7.72 7.72c-.78.78-.78 2.05 0 2.83L4 21.41c.39.39.9.59 1.41.59.51 0 1.02-.2 1.41-.59l7.78-7.78 2.81-2.81c.8-.78.8-2.07 0-2.86zM5.41 20L4 18.59l7.72-7.72 1.47 1.35L5.41 20z\"/>\n",
              "  </svg>\n",
              "      </button>\n",
              "      \n",
              "  <style>\n",
              "    .colab-df-container {\n",
              "      display:flex;\n",
              "      flex-wrap:wrap;\n",
              "      gap: 12px;\n",
              "    }\n",
              "\n",
              "    .colab-df-convert {\n",
              "      background-color: #E8F0FE;\n",
              "      border: none;\n",
              "      border-radius: 50%;\n",
              "      cursor: pointer;\n",
              "      display: none;\n",
              "      fill: #1967D2;\n",
              "      height: 32px;\n",
              "      padding: 0 0 0 0;\n",
              "      width: 32px;\n",
              "    }\n",
              "\n",
              "    .colab-df-convert:hover {\n",
              "      background-color: #E2EBFA;\n",
              "      box-shadow: 0px 1px 2px rgba(60, 64, 67, 0.3), 0px 1px 3px 1px rgba(60, 64, 67, 0.15);\n",
              "      fill: #174EA6;\n",
              "    }\n",
              "\n",
              "    [theme=dark] .colab-df-convert {\n",
              "      background-color: #3B4455;\n",
              "      fill: #D2E3FC;\n",
              "    }\n",
              "\n",
              "    [theme=dark] .colab-df-convert:hover {\n",
              "      background-color: #434B5C;\n",
              "      box-shadow: 0px 1px 3px 1px rgba(0, 0, 0, 0.15);\n",
              "      filter: drop-shadow(0px 1px 2px rgba(0, 0, 0, 0.3));\n",
              "      fill: #FFFFFF;\n",
              "    }\n",
              "  </style>\n",
              "\n",
              "      <script>\n",
              "        const buttonEl =\n",
              "          document.querySelector('#df-36fab7e1-1b41-459e-b46e-fb4df5f08366 button.colab-df-convert');\n",
              "        buttonEl.style.display =\n",
              "          google.colab.kernel.accessAllowed ? 'block' : 'none';\n",
              "\n",
              "        async function convertToInteractive(key) {\n",
              "          const element = document.querySelector('#df-36fab7e1-1b41-459e-b46e-fb4df5f08366');\n",
              "          const dataTable =\n",
              "            await google.colab.kernel.invokeFunction('convertToInteractive',\n",
              "                                                     [key], {});\n",
              "          if (!dataTable) return;\n",
              "\n",
              "          const docLinkHtml = 'Like what you see? Visit the ' +\n",
              "            '<a target=\"_blank\" href=https://colab.research.google.com/notebooks/data_table.ipynb>data table notebook</a>'\n",
              "            + ' to learn more about interactive tables.';\n",
              "          element.innerHTML = '';\n",
              "          dataTable['output_type'] = 'display_data';\n",
              "          await google.colab.output.renderOutput(dataTable, element);\n",
              "          const docLink = document.createElement('div');\n",
              "          docLink.innerHTML = docLinkHtml;\n",
              "          element.appendChild(docLink);\n",
              "        }\n",
              "      </script>\n",
              "    </div>\n",
              "  </div>\n",
              "  "
            ]
          },
          "metadata": {},
          "execution_count": 6
        }
      ]
    },
    {
      "cell_type": "code",
      "source": [
        "train, validate, test = np.split(df.sample(frac=1), [int(.6 * len(df)), int(.8 * len(df))])\n",
        "\n",
        "x_train, y_train = train['text'].values, train['label'].values\n",
        "x_test, y_test = test['text'].values, test['label'].values\n",
        "x_val, y_val = test['text'].values, test['label'].values\n",
        "\n",
        "x_train_tf = tf.convert_to_tensor(x_train)\n",
        "x_test_tf = tf.convert_to_tensor(x_test)\n",
        "x_val_tf = tf.convert_to_tensor(x_val)\n",
        "\n",
        "x_val_tf"
      ],
      "metadata": {
        "colab": {
          "base_uri": "https://localhost:8080/"
        },
        "id": "1gQmCwIK7khr",
        "outputId": "86ddbd05-94ef-4a43-8c43-73726f09bc47"
      },
      "execution_count": 7,
      "outputs": [
        {
          "output_type": "execute_result",
          "data": {
            "text/plain": [
              "<tf.Tensor: shape=(31997,), dtype=string, numpy=\n",
              "array([b'Both in Sweden and Finland, both countries I get to vote in.',\n",
              "       b\"There was a period where `` Norway '' didn't exist, but it had ended by the time Tordenskjold was alive.\",\n",
              "       b\"I also think it's cultural.\", ...,\n",
              "       b\"I have never heard that before, but `` brygge '' means something like dock in Norwegian, so that actually sounds likely.\",\n",
              "       b'He deserves to be forgotten.',\n",
              "       b\"They aren't necessarily factual, but based on facts.\"],\n",
              "      dtype=object)>"
            ]
          },
          "metadata": {},
          "execution_count": 7
        }
      ]
    },
    {
      "cell_type": "code",
      "source": [
        "import matplotlib.pyplot as plt\n",
        "\n",
        "\n",
        "def plot_graphs(history, metric):\n",
        "  plt.plot(history.history[metric])\n",
        "  plt.plot(history.history['val_'+metric], '')\n",
        "  plt.xlabel(\"Epochs\")\n",
        "  plt.ylabel(metric)\n",
        "  plt.legend([metric, 'val_'+metric])"
      ],
      "metadata": {
        "id": "fZgXTy4S-4BK"
      },
      "execution_count": 8,
      "outputs": []
    },
    {
      "cell_type": "code",
      "source": [
        "# Text encoder\n",
        "VOCAB_SIZE = 50000\n",
        "encoder = tf.keras.layers.TextVectorization(\n",
        "    max_tokens=VOCAB_SIZE, standardize=None, ngrams=3)\n",
        "encoder.adapt(x_train_tf)\n",
        "vocab = np.array(encoder.get_vocabulary())\n",
        "vocab[:20]"
      ],
      "metadata": {
        "colab": {
          "base_uri": "https://localhost:8080/"
        },
        "id": "arvvZHKc_Dpn",
        "outputId": "9190da32-aeb7-4d27-9431-f1ca42fb605f"
      },
      "execution_count": 9,
      "outputs": [
        {
          "output_type": "execute_result",
          "data": {
            "text/plain": [
              "array(['', '[UNK]', 'the', 'to', 'of', 'and', 'a', 'in', 'is', 'that',\n",
              "       'I', 'it', 'you', 'for', 'are', 'not', 'have', 'be', 'as', 'with'],\n",
              "      dtype='<U27')"
            ]
          },
          "metadata": {},
          "execution_count": 9
        }
      ]
    },
    {
      "cell_type": "code",
      "source": [
        "tf.debugging.set_log_device_placement(True)\n",
        "tf.test.is_built_with_cuda()"
      ],
      "metadata": {
        "colab": {
          "base_uri": "https://localhost:8080/"
        },
        "id": "ApAdNofYmPeo",
        "outputId": "91592299-e119-4533-de3e-fcc72aaf302f"
      },
      "execution_count": 10,
      "outputs": [
        {
          "output_type": "execute_result",
          "data": {
            "text/plain": [
              "True"
            ]
          },
          "metadata": {},
          "execution_count": 10
        }
      ]
    },
    {
      "cell_type": "code",
      "source": [
        "encoded_example = encoder(\"This is an example\")[:3].numpy()\n",
        "encoded_example"
      ],
      "metadata": {
        "colab": {
          "base_uri": "https://localhost:8080/"
        },
        "id": "QTkmtbDT_50M",
        "outputId": "0b0d64fd-5791-463e-d794-c6233e1ae65b"
      },
      "execution_count": 11,
      "outputs": [
        {
          "output_type": "execute_result",
          "data": {
            "text/plain": [
              "array([118,   8,  53])"
            ]
          },
          "metadata": {},
          "execution_count": 11
        }
      ]
    },
    {
      "cell_type": "code",
      "source": [
        "# Bidirectional with more layers\n",
        "model = tf.keras.Sequential([\n",
        "    encoder,\n",
        "    tf.keras.layers.Embedding(len(encoder.get_vocabulary()), 64, mask_zero=True),\n",
        "    tf.keras.layers.Bidirectional(tf.keras.layers.LSTM(64,  return_sequences=True)),\n",
        "    tf.keras.layers.Bidirectional(tf.keras.layers.LSTM(32)),\n",
        "    tf.keras.layers.Dense(64, activation='relu'),\n",
        "    tf.keras.layers.Dropout(0.5),\n",
        "    tf.keras.layers.Dense(1)\n",
        "])\n",
        "\n",
        "model.compile(loss=tf.keras.losses.SparseCategoricalCrossentropy(from_logits=True),\n",
        "              optimizer=tf.keras.optimizers.Adam(1e-4),\n",
        "              metrics=['accuracy'])\n",
        "history = model.fit(x=x_train_tf, y=y_train, epochs=10,\n",
        "                    validation_data=(x_val_tf, y_val),\n",
        "                    validation_steps=30)"
      ],
      "metadata": {
        "colab": {
          "base_uri": "https://localhost:8080/"
        },
        "id": "Emxw8jmtId3V",
        "outputId": "32c8b042-a00e-43ce-a9ab-6aaac04327ce"
      },
      "execution_count": 12,
      "outputs": [
        {
          "output_type": "stream",
          "name": "stdout",
          "text": [
            "Epoch 1/10\n",
            "3000/3000 [==============================] - 165s 49ms/step - loss: nan - accuracy: 0.2504 - val_loss: nan - val_accuracy: 0.2484\n",
            "Epoch 2/10\n",
            "3000/3000 [==============================] - 139s 46ms/step - loss: nan - accuracy: 0.2504 - val_loss: nan - val_accuracy: 0.2484\n",
            "Epoch 3/10\n",
            "3000/3000 [==============================] - 137s 46ms/step - loss: nan - accuracy: 0.2504 - val_loss: nan - val_accuracy: 0.2484\n",
            "Epoch 4/10\n",
            "3000/3000 [==============================] - 136s 45ms/step - loss: nan - accuracy: 0.2504 - val_loss: nan - val_accuracy: 0.2484\n",
            "Epoch 5/10\n",
            "3000/3000 [==============================] - 135s 45ms/step - loss: nan - accuracy: 0.2504 - val_loss: nan - val_accuracy: 0.2484\n",
            "Epoch 6/10\n",
            "3000/3000 [==============================] - 134s 45ms/step - loss: nan - accuracy: 0.2504 - val_loss: nan - val_accuracy: 0.2484\n",
            "Epoch 7/10\n",
            "3000/3000 [==============================] - 137s 46ms/step - loss: nan - accuracy: 0.2504 - val_loss: nan - val_accuracy: 0.2484\n",
            "Epoch 8/10\n",
            "3000/3000 [==============================] - 136s 45ms/step - loss: nan - accuracy: 0.2504 - val_loss: nan - val_accuracy: 0.2484\n",
            "Epoch 9/10\n",
            "3000/3000 [==============================] - 135s 45ms/step - loss: nan - accuracy: 0.2504 - val_loss: nan - val_accuracy: 0.2484\n",
            "Epoch 10/10\n",
            "3000/3000 [==============================] - 133s 44ms/step - loss: nan - accuracy: 0.2504 - val_loss: nan - val_accuracy: 0.2484\n"
          ]
        }
      ]
    },
    {
      "cell_type": "code",
      "source": [
        "test_loss, test_acc = model.evaluate(x_test_tf, y_test)\n",
        "\n",
        "print('Test Loss:', test_loss)\n",
        "print('Test Accuracy:', test_acc)"
      ],
      "metadata": {
        "id": "9BWGcVQ2N1HA",
        "colab": {
          "base_uri": "https://localhost:8080/"
        },
        "outputId": "b4ddb39d-0f59-43b4-8f14-35ebe828d6ce"
      },
      "execution_count": 13,
      "outputs": [
        {
          "output_type": "stream",
          "name": "stdout",
          "text": [
            "1000/1000 [==============================] - 17s 17ms/step - loss: nan - accuracy: 0.2484\n",
            "Test Loss: nan\n",
            "Test Accuracy: 0.248367041349411\n"
          ]
        }
      ]
    },
    {
      "cell_type": "code",
      "source": [
        "plt.figure(figsize=(16, 6))\n",
        "plt.subplot(1, 2, 1)\n",
        "plot_graphs(history, 'accuracy')\n",
        "plt.subplot(1, 2, 2)\n",
        "plot_graphs(history, 'loss')"
      ],
      "metadata": {
        "id": "hqE_EttkN_7E",
        "colab": {
          "base_uri": "https://localhost:8080/",
          "height": 388
        },
        "outputId": "a9e09d4d-8e13-4757-b24d-79c6699ba07a"
      },
      "execution_count": 16,
      "outputs": [
        {
          "output_type": "display_data",
          "data": {
            "text/plain": [
              "<Figure size 1152x432 with 2 Axes>"
            ],
            "image/png": "[encoded data removed]"
          },
          "metadata": {
            "needs_background": "light"
          }
        }
      ]
    }
  ]
}